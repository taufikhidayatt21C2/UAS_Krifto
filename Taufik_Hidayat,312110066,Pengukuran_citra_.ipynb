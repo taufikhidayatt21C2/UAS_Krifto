{
  "nbformat": 4,
  "nbformat_minor": 0,
  "metadata": {
    "colab": {
      "provenance": [],
      "authorship_tag": "ABX9TyP6ldV+FFStjvBmejNMUeaK",
      "include_colab_link": true
    },
    "kernelspec": {
      "name": "python3",
      "display_name": "Python 3"
    },
    "language_info": {
      "name": "python"
    }
  },
  "cells": [
    {
      "cell_type": "markdown",
      "metadata": {
        "id": "view-in-github",
        "colab_type": "text"
      },
      "source": [
        "<a href=\"https://colab.research.google.com/github/taufikhidayatt21C2/UAS_Krifto/blob/main/Taufik_Hidayat%2C312110066%2CPengukuran_citra_.ipynb\" target=\"_parent\"><img src=\"https://colab.research.google.com/assets/colab-badge.svg\" alt=\"Open In Colab\"/></a>"
      ]
    },
    {
      "cell_type": "code",
      "source": [
        "import cv2\n",
        "import numpy as np\n",
        "\n",
        "def hitung_rata_rata_intensitas(citra):\n",
        "    # Mengambil dimensi citra\n",
        "    tinggi, lebar, _ = citra.shape\n",
        "\n",
        "    # Menghitung rata-rata intensitas piksel\n",
        "    total_intensitas = np.sum(citra)\n",
        "    rata_rata_intensitas = total_intensitas / (tinggi * lebar)\n",
        "\n",
        "    return rata_rata_intensitas\n",
        "\n",
        "# Membaca citra dari file\n",
        "nama_file_citra = '/content/screenshot.png.JPG'\n",
        "citra = cv2.imread(nama_file_citra)\n",
        "\n",
        "# Menghitung rata-rata intensitas piksel\n",
        "rata_rata = hitung_rata_rata_intensitas(citra)\n",
        "\n",
        "# Menampilkan hasil\n",
        "print(f'Rata-rata Intensitas Piksel: {rata_rata}')"
      ],
      "metadata": {
        "colab": {
          "base_uri": "https://localhost:8080/"
        },
        "id": "d9TpuWzVMUuj",
        "outputId": "0a1b1456-e33b-45e4-e389-40c310f4dfcd"
      },
      "execution_count": null,
      "outputs": [
        {
          "output_type": "stream",
          "name": "stdout",
          "text": [
            "Rata-rata Intensitas Piksel: 407.1882274101906\n"
          ]
        }
      ]
    }
  ]
}