{
  "nbformat": 4,
  "nbformat_minor": 0,
  "metadata": {
    "colab": {
      "provenance": [],
      "authorship_tag": "ABX9TyP2X4AVW4DSpYHt6V5eoMth",
      "include_colab_link": true
    },
    "kernelspec": {
      "name": "python3",
      "display_name": "Python 3"
    },
    "language_info": {
      "name": "python"
    }
  },
  "cells": [
    {
      "cell_type": "markdown",
      "metadata": {
        "id": "view-in-github",
        "colab_type": "text"
      },
      "source": [
        "<a href=\"https://colab.research.google.com/github/taufikhidayatt21C2/UAS_Krifto/blob/main/Taufik_Hidayat_%2C312110066%2CAffine_OTP.ipynb\" target=\"_parent\"><img src=\"https://colab.research.google.com/assets/colab-badge.svg\" alt=\"Open In Colab\"/></a>"
      ]
    },
    {
      "cell_type": "code",
      "execution_count": null,
      "metadata": {
        "colab": {
          "base_uri": "https://localhost:8080/"
        },
        "id": "59WoFxGkQQ_a",
        "outputId": "51f788c4-3f78-40fc-91b4-78a0aac29313"
      },
      "outputs": [
        {
          "output_type": "stream",
          "name": "stdout",
          "text": [
            "Affine Encrypted: eiu zcpnipe\n",
            "OTP Encrypted: ctb kbyapti\n"
          ]
        }
      ],
      "source": [
        "import random\n",
        "\n",
        "def mod_inverse(a, m):\n",
        "    # Fungsi untuk menghitung invers modulus dari a mod m\n",
        "    for i in range(1, m):\n",
        "        if (a * i) % m == 1:\n",
        "            return i\n",
        "    return None\n",
        "\n",
        "def affine_encrypt(plaintext, a, b):\n",
        "    # Fungsi untuk mengenkripsi dengan Affine Cipher\n",
        "    encrypted_text = \"\"\n",
        "    for char in plaintext:\n",
        "        if char.isalpha():\n",
        "            # Enkripsi hanya berlaku untuk huruf alphabet\n",
        "            x = ord(char) - ord('A') if char.isupper() else ord(char) - ord('a')\n",
        "            encrypted_text += chr((a * x + b) % 26 + ord('A') if char.isupper() else (a * x + b) % 26 + ord('a'))\n",
        "        else:\n",
        "            encrypted_text += char\n",
        "    return encrypted_text\n",
        "\n",
        "def generate_one_time_pad(length):\n",
        "    # Fungsi untuk menghasilkan kunci OTP acak\n",
        "    return [random.randint(0, 25) for _ in range(length)]\n",
        "\n",
        "def apply_one_time_pad(plaintext, otp):\n",
        "    # Fungsi untuk mengenkripsi dengan OTP\n",
        "    encrypted_text = \"\"\n",
        "    for i, char in enumerate(plaintext):\n",
        "        if char.isalpha():\n",
        "            x = ord(char) - ord('A') if char.isupper() else ord(char) - ord('a')\n",
        "            encrypted_text += chr((x + otp[i]) % 26 + ord('A') if char.isupper() else (x + otp[i]) % 26 + ord('a'))\n",
        "        else:\n",
        "            encrypted_text += char\n",
        "    return encrypted_text\n",
        "\n",
        "# Contoh penggunaan Affine Cipher\n",
        "plaintext = \"uas terbaru\"\n",
        "a = 5\n",
        "b = 8\n",
        "affine_encrypted_text = affine_encrypt(plaintext, a, b)\n",
        "print(\"Affine Encrypted:\", affine_encrypted_text)\n",
        "\n",
        "# Contoh penggunaan One-Time Pad\n",
        "otp_key = generate_one_time_pad(len(plaintext))\n",
        "otp_encrypted_text = apply_one_time_pad(plaintext, otp_key)\n",
        "print(\"OTP Encrypted:\", otp_encrypted_text)\n"
      ]
    }
  ]
}